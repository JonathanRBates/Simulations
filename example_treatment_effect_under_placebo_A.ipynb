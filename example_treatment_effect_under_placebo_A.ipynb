{
 "cells": [
  {
   "cell_type": "markdown",
   "metadata": {},
   "source": [
    "# Test treatment effects under placebo\n",
    "\n",
    "The set up for the following tests is to test the regression estimator for the treatment effect in the case that the treatment effect is 0, but the treatment is related to the risk factor affecting the outcome.\n"
   ]
  },
  {
   "cell_type": "markdown",
   "metadata": {},
   "source": [
    "## Example A.\n",
    "\n",
    "Simplest possible example.  One binary risk factor $X$, one binary treatment $T$, one binary outcome $Y$.\n",
    "\n",
    "$\\begin{align}\n",
    "P(X=1) = 0.25 \\\\\n",
    "P(T=1 \\mid X=1) = 0.90 \\\\\n",
    "P(T=1 \\mid X=0) = 0.10 \\\\\n",
    "P(Y=1 \\mid X=1) = 0.90 \\\\\n",
    "P(Y=1 \\mid X=0) = 0.10\n",
    "\\end{align}$\n",
    "\n",
    "We generate N=200 patients, then estimate the treatment effect.  This is repeated n_iter = 1000 times for the bootstrap 95% confidence interval."
   ]
  },
  {
   "cell_type": "code",
   "execution_count": 8,
   "metadata": {
    "collapsed": true
   },
   "outputs": [],
   "source": [
    "N = 200\n",
    "p_has_risk_factor = 0.25\n",
    "p_treat_given_risk_factor = 0.90\n",
    "p_treat_given_no_risk_factor = 0.10\n",
    "p_outcome_given_risk_factor = 0.90\n",
    "p_outcome_given_no_risk_factor = 0.10\n",
    "n_iter = 1000"
   ]
  },
  {
   "cell_type": "markdown",
   "metadata": {},
   "source": [
    "### Example A. The regression estimator.\n",
    "\n",
    "We fit $\\mathrm{logit}(Y) \\sim \\beta X + \\tau T$.  The estimated parameter $\\hat{\\tau}$ is the regression estimator for the treatment effect."
   ]
  },
  {
   "cell_type": "code",
   "execution_count": 9,
   "metadata": {
    "collapsed": false
   },
   "outputs": [
    {
     "name": "stdout",
     "output_type": "stream",
     "text": [
      "Treatment Effect CI: (0.07,  1.35)\n"
     ]
    }
   ],
   "source": [
    "from treatment_effect_under_placebo_tests import scenario_A\n",
    "method = 'regression'   \n",
    "cis, _ = scenario_A(N,\n",
    "                    n_iter,\n",
    "                    p_has_risk_factor,\n",
    "                    p_treat_given_risk_factor,\n",
    "                    p_treat_given_no_risk_factor,\n",
    "                    p_outcome_given_risk_factor,\n",
    "                    p_outcome_given_no_risk_factor,\n",
    "                    method)\n",
    "print('Treatment Effect CI: ({:.2f},  {:.2f})'.format(cis[0],cis[1]))"
   ]
  },
  {
   "cell_type": "markdown",
   "metadata": {},
   "source": [
    "This scenario works as follows. "
   ]
  },
  {
   "cell_type": "code",
   "execution_count": 10,
   "metadata": {
    "collapsed": false
   },
   "outputs": [
    {
     "name": "stdout",
     "output_type": "stream",
     "text": [
      "risk factor  treatment\n",
      "0            0            128\n",
      "             1             14\n",
      "1            0              6\n",
      "             1             52\n",
      "dtype: int64\n",
      "Estimated treatment effect = 0.99\n"
     ]
    }
   ],
   "source": [
    "# First, generate the risk factor, treament, outcome variables.\n",
    "import numpy as np\n",
    "x = np.random.binomial(1,p_has_risk_factor,size=(N,1))\n",
    "treat = np.random.binomial(1,p_treat_given_risk_factor*x+p_treat_given_no_risk_factor*(1-x))         \n",
    "y = np.random.binomial(1,p_outcome_given_risk_factor*x+p_outcome_given_no_risk_factor*(1-x)) \n",
    "\n",
    "# Summarize\n",
    "X = np.hstack([x, treat])\n",
    "import pandas as pd\n",
    "df = pd.DataFrame(X, columns=['risk factor', 'treatment'])\n",
    "print(df.groupby(['risk factor', 'treatment']).size())\n",
    "\n",
    "# Second, predict the outcome using logistic regression.\n",
    "from sklearn.linear_model import LogisticRegression\n",
    "clf = LogisticRegression(penalty='l2')  \n",
    "clf.fit(X,np.reshape(y, (N,)))\n",
    "\n",
    "# The coefficient of treatment is nominally the treatment effect.\n",
    "estimated_treatment_effect = clf.coef_[0][1]\n",
    "print('Estimated treatment effect = {:.2f}'.format(estimated_treatment_effect))"
   ]
  },
  {
   "cell_type": "markdown",
   "metadata": {},
   "source": [
    "### Example A. Exact matching, followed by applying the regression estimator."
   ]
  },
  {
   "cell_type": "code",
   "execution_count": 11,
   "metadata": {
    "collapsed": false
   },
   "outputs": [
    {
     "name": "stdout",
     "output_type": "stream",
     "text": [
      "risk factor  treatment\n",
      "0            0            14\n",
      "             1            14\n",
      "1            0             6\n",
      "             1             6\n",
      "dtype: int64\n",
      "Estimated treatment effect = 0.43\n"
     ]
    }
   ],
   "source": [
    "# Sample matches between treatment and control groups.\n",
    "from treatment_effect_under_placebo_tests import match_exact\n",
    "idx = match_exact(x, treat)\n",
    "X = np.hstack([x, treat])[idx,:]  \n",
    "y_ = y[idx]\n",
    "\n",
    "# Summarize\n",
    "df = pd.DataFrame(X, columns=['risk factor', 'treatment'])\n",
    "print(df.groupby(['risk factor', 'treatment']).size())\n",
    "\n",
    "# Then predict the outcome using logistic regression.\n",
    "clf.fit(X,np.reshape(y_, (len(y_),)))\n",
    "\n",
    "# The coefficient of treatment is nominally the treatment effect.\n",
    "estimated_treatment_effect = clf.coef_[0][1]\n",
    "print('Estimated treatment effect = {:.2f}'.format(estimated_treatment_effect))"
   ]
  },
  {
   "cell_type": "markdown",
   "metadata": {},
   "source": [
    "### Example A. Distance matching, followed by applying the regression estimator."
   ]
  },
  {
   "cell_type": "code",
   "execution_count": 12,
   "metadata": {
    "collapsed": false
   },
   "outputs": [
    {
     "name": "stdout",
     "output_type": "stream",
     "text": [
      "risk factor  treatment\n",
      "0            0            14\n",
      "             1            14\n",
      "1            0             6\n",
      "             1             6\n",
      "dtype: int64\n",
      "Estimated treatment effect = 0.28\n"
     ]
    }
   ],
   "source": [
    "# Sample matches between treatment and control groups.\n",
    "from treatment_effect_under_placebo_tests import match_dist\n",
    "idx = match_dist(x, treat, caliper=0.9)\n",
    "X = np.hstack([x, treat])[idx,:]  \n",
    "y_ = y[idx]\n",
    "\n",
    "# Summarize\n",
    "df = pd.DataFrame(X, columns=['risk factor', 'treatment'])\n",
    "print(df.groupby(['risk factor', 'treatment']).size())\n",
    "\n",
    "# Then predict the outcome using logistic regression.\n",
    "clf.fit(X,np.reshape(y_, (len(y_),)))\n",
    "\n",
    "# The coefficient of treatment is nominally the treatment effect.\n",
    "estimated_treatment_effect = clf.coef_[0][1]\n",
    "print('Estimated treatment effect = {:.2f}'.format(estimated_treatment_effect))"
   ]
  },
  {
   "cell_type": "markdown",
   "metadata": {},
   "source": [
    "### Example A. Run all estimators for treatment effect CIs."
   ]
  },
  {
   "cell_type": "code",
   "execution_count": 13,
   "metadata": {
    "collapsed": false
   },
   "outputs": [
    {
     "name": "stdout",
     "output_type": "stream",
     "text": [
      "Method regression, Treatment Effect CI: (0.05,  1.32); 1000 valid runs.\n",
      "Method matchexact, Treatment Effect CI: (-0.88,  0.40); 1000 valid runs.\n",
      "Method matchdist, Treatment Effect CI: (-0.88,  0.47); 1000 valid runs.\n"
     ]
    }
   ],
   "source": [
    "# Parameter Settings\n",
    "N = 200\n",
    "p_has_risk_factor = 0.25\n",
    "p_treat_given_risk_factor = 0.90\n",
    "p_treat_given_no_risk_factor = 0.10\n",
    "p_outcome_given_risk_factor = 0.90\n",
    "p_outcome_given_no_risk_factor = 0.10\n",
    "n_iter = 1000\n",
    "\n",
    "# Run all methods\n",
    "methods = ['regression', 'matchexact', 'matchdist']\n",
    "for method in methods:\n",
    "    cis, num_valid = scenario_A(N,\n",
    "                                n_iter,\n",
    "                                p_has_risk_factor,\n",
    "                                p_treat_given_risk_factor,\n",
    "                                p_treat_given_no_risk_factor,\n",
    "                                p_outcome_given_risk_factor,\n",
    "                                p_outcome_given_no_risk_factor,\n",
    "                                method)\n",
    "    print('Method {}, Treatment Effect CI: ({:.2f},  {:.2f}); {} valid runs.'.format(method,cis[0],cis[1],num_valid))"
   ]
  }
 ],
 "metadata": {
  "celltoolbar": "Raw Cell Format",
  "kernelspec": {
   "display_name": "Python 3",
   "language": "python",
   "name": "python3"
  },
  "language_info": {
   "codemirror_mode": {
    "name": "ipython",
    "version": 3
   },
   "file_extension": ".py",
   "mimetype": "text/x-python",
   "name": "python",
   "nbconvert_exporter": "python",
   "pygments_lexer": "ipython3",
   "version": "3.5.1"
  }
 },
 "nbformat": 4,
 "nbformat_minor": 0
}
