{
 "cells": [
  {
   "cell_type": "markdown",
   "metadata": {},
   "source": [
    "# Test treatment effects under placebo\n",
    "\n",
    "The set up for the following tests is to test the regression estimator for the treatment effect in the case that the treatment effect is 0, but the treatment is related to the risk factor affecting the outcome.\n"
   ]
  },
  {
   "cell_type": "markdown",
   "metadata": {},
   "source": [
    "## Example A.\n",
    "\n",
    "Simplest possible example.  One binary risk factor $X$, one binary treatment $T$, one binary outcome $Y$.\n",
    "\n",
    "$\\begin{align}\n",
    "P(X=1) = 0.25 \\\\\n",
    "P(T=1 \\mid X=1) = 0.95 \\\\\n",
    "P(T=1 \\mid X=0) = 0.05 \\\\\n",
    "P(Y=1 \\mid X=1) = 0.95 \\\\\n",
    "P(Y=1 \\mid X=0) = 0.05\n",
    "\\end{align}$\n",
    "\n",
    "We generate N=200 patients, then estimate the treatment effect.  This is repeated n_iter = 1000 times for the bootstrap 95% confidence interval."
   ]
  },
  {
   "cell_type": "code",
   "execution_count": 8,
   "metadata": {
    "collapsed": true
   },
   "outputs": [],
   "source": [
    "N = 200\n",
    "p_has_risk_factor = 0.25\n",
    "p_treat_given_risk_factor = 0.95\n",
    "p_treat_given_no_risk_factor = 0.05\n",
    "p_outcome_given_risk_factor = 0.95\n",
    "p_outcome_given_no_risk_factor = 0.05\n",
    "n_iter = 1000"
   ]
  },
  {
   "cell_type": "markdown",
   "metadata": {},
   "source": [
    "### Example A. The regression estimator.\n",
    "\n",
    "We fit $\\mathrm{logit}(Y) \\sim \\beta X + \\tau T$.  The estimated parameter $\\hat{\\tau}$ is the regression estimator for the treatment effect."
   ]
  },
  {
   "cell_type": "code",
   "execution_count": 9,
   "metadata": {
    "collapsed": false
   },
   "outputs": [
    {
     "name": "stdout",
     "output_type": "stream",
     "text": [
      "Treatment Effect CI: (0.09,  0.29)\n"
     ]
    }
   ],
   "source": [
    "from treatment_effect_under_placebo_simulations import scenario_A, treatment_effect_estimator\n",
    "method = 'regression'   \n",
    "cis, _ = scenario_A(N,\n",
    "                    n_iter,\n",
    "                    p_has_risk_factor,\n",
    "                    p_treat_given_risk_factor,\n",
    "                    p_treat_given_no_risk_factor,\n",
    "                    p_outcome_given_risk_factor,\n",
    "                    p_outcome_given_no_risk_factor,\n",
    "                    method)\n",
    "print('Treatment Effect CI: ({:.2f},  {:.2f})'.format(cis[0],cis[1]))"
   ]
  },
  {
   "cell_type": "markdown",
   "metadata": {},
   "source": [
    "This scenario works as follows. "
   ]
  },
  {
   "cell_type": "code",
   "execution_count": 10,
   "metadata": {
    "collapsed": false
   },
   "outputs": [
    {
     "name": "stdout",
     "output_type": "stream",
     "text": [
      "risk factor  treatment\n",
      "0            0            143\n",
      "             1              5\n",
      "1            0              4\n",
      "             1             48\n",
      "dtype: int64\n",
      "Estimated treatment effect = 0.16\n"
     ]
    }
   ],
   "source": [
    "# First, generate the risk factor, treatment, outcome variables.\n",
    "import numpy as np\n",
    "x = np.random.binomial(1,p_has_risk_factor,size=(N,))\n",
    "treat = np.random.binomial(1,p_treat_given_risk_factor*x+p_treat_given_no_risk_factor*(1-x))         \n",
    "y = np.random.binomial(1,p_outcome_given_risk_factor*x+p_outcome_given_no_risk_factor*(1-x))\n",
    "\n",
    "# Summarize\n",
    "X = np.vstack([x, treat]).T\n",
    "import pandas as pd\n",
    "df = pd.DataFrame(X, columns=['risk factor', 'treatment'])\n",
    "print(df.groupby(['risk factor', 'treatment']).size())\n",
    "\n",
    "# Second, predict the outcome using logistic regression.\n",
    "from sklearn.linear_model import LogisticRegression\n",
    "clf = LogisticRegression(penalty='l2')  \n",
    "clf.fit(X,y)\n",
    "\n",
    "# We use the G-computation estimator for the treatment effect\n",
    "estimated_treatment_effect = treatment_effect_estimator(X,clf,method='gcomp')\n",
    "print('Estimated treatment effect = {:.2f}'.format(estimated_treatment_effect))"
   ]
  },
  {
   "cell_type": "markdown",
   "metadata": {},
   "source": [
    "### Example A. Exact matching, followed by applying the G-computation estimator"
   ]
  },
  {
   "cell_type": "code",
   "execution_count": 11,
   "metadata": {
    "collapsed": false
   },
   "outputs": [
    {
     "name": "stdout",
     "output_type": "stream",
     "text": [
      "risk factor  treatment\n",
      "0            0            5\n",
      "             1            5\n",
      "1            0            4\n",
      "             1            4\n",
      "dtype: int64\n",
      "Estimated treatment effect = -0.04\n"
     ]
    }
   ],
   "source": [
    "# Sample matches between treatment and control groups.\n",
    "from treatment_effect_under_placebo_simulations import match_exact\n",
    "idx = match_exact(x, treat)\n",
    "X = np.vstack([x, treat]).T[idx,:]  \n",
    "y_ = y[idx]\n",
    "\n",
    "# Summarize\n",
    "df = pd.DataFrame(X, columns=['risk factor', 'treatment'])\n",
    "print(df.groupby(['risk factor', 'treatment']).size())\n",
    "\n",
    "# Then predict the outcome using logistic regression.\n",
    "clf.fit(X,y_)\n",
    "\n",
    "# Use G-computation estimator for the treatment effect.\n",
    "estimated_treatment_effect = treatment_effect_estimator(X,clf,method='gcomp')\n",
    "print('Estimated treatment effect = {:.2f}'.format(estimated_treatment_effect))"
   ]
  },
  {
   "cell_type": "markdown",
   "metadata": {},
   "source": [
    "### Example A. Distance matching, followed by applying the G-computation estimator"
   ]
  },
  {
   "cell_type": "code",
   "execution_count": 12,
   "metadata": {
    "collapsed": false
   },
   "outputs": [
    {
     "name": "stdout",
     "output_type": "stream",
     "text": [
      "risk factor  treatment\n",
      "0            0             5\n",
      "             1             5\n",
      "1            0            48\n",
      "             1            48\n",
      "dtype: int64\n",
      "Estimated treatment effect = -0.03\n"
     ]
    }
   ],
   "source": [
    "# Sample matches between treatment and control groups.\n",
    "from treatment_effect_under_placebo_simulations import match_dist\n",
    "idx = match_dist(x, treat, caliper=0.9) \n",
    "X = np.vstack([x, treat]).T[idx,:]  \n",
    "y_ = y[idx]\n",
    "\n",
    "# Summarize\n",
    "df = pd.DataFrame(X, columns=['risk factor', 'treatment'])\n",
    "print(df.groupby(['risk factor', 'treatment']).size())\n",
    "\n",
    "# Then predict the outcome using logistic regression.\n",
    "clf.fit(X,y_)\n",
    "\n",
    "# Estimate treatment effect.\n",
    "estimated_treatment_effect = treatment_effect_estimator(X,clf,method='gcomp')\n",
    "print('Estimated treatment effect = {:.2f}'.format(estimated_treatment_effect))"
   ]
  },
  {
   "cell_type": "code",
   "execution_count": 13,
   "metadata": {
    "collapsed": false
   },
   "outputs": [],
   "source": [
    "# idx"
   ]
  },
  {
   "cell_type": "markdown",
   "metadata": {},
   "source": [
    "### Example A. Run all estimators for treatment effect CIs."
   ]
  },
  {
   "cell_type": "code",
   "execution_count": 14,
   "metadata": {
    "collapsed": false
   },
   "outputs": [
    {
     "name": "stdout",
     "output_type": "stream",
     "text": [
      "Method regression, Treatment Effect CI: (0.0901,  0.2942); 1000 valid runs.\n",
      "Method matchexact, Treatment Effect CI: (-0.1314,  0.0362); 951 valid runs.\n",
      "Method matchdist, greedy, Treatment Effect CI: (-0.0971,  0.6510); 952 valid runs.\n",
      "Method matchdist, 1-1, Treatment Effect CI: (-0.1283,  0.0416); 957 valid runs.\n"
     ]
    }
   ],
   "source": [
    "# Parameter Settings\n",
    "N = 200\n",
    "p_has_risk_factor = 0.25\n",
    "p_treat_given_risk_factor = 0.95\n",
    "p_treat_given_no_risk_factor = 0.05\n",
    "p_outcome_given_risk_factor = 0.95\n",
    "p_outcome_given_no_risk_factor = 0.05\n",
    "n_iter = 1000\n",
    "\n",
    "# Run all methods\n",
    "methods = ['regression', 'matchexact', 'matchdist, greedy', 'matchdist, 1-1']\n",
    "for method in methods:\n",
    "    cis, num_valid = scenario_A(N,\n",
    "                                n_iter,\n",
    "                                p_has_risk_factor,\n",
    "                                p_treat_given_risk_factor,\n",
    "                                p_treat_given_no_risk_factor,\n",
    "                                p_outcome_given_risk_factor,\n",
    "                                p_outcome_given_no_risk_factor,\n",
    "                                method)\n",
    "    print('Method {}, Treatment Effect CI: ({:.4f},  {:.4f}); {} valid runs.'.format(method,cis[0],cis[1],num_valid))"
   ]
  }
 ],
 "metadata": {
  "anaconda-cloud": {},
  "celltoolbar": "Raw Cell Format",
  "kernelspec": {
   "display_name": "Python [conda root]",
   "language": "python",
   "name": "conda-root-py"
  },
  "language_info": {
   "codemirror_mode": {
    "name": "ipython",
    "version": 3
   },
   "file_extension": ".py",
   "mimetype": "text/x-python",
   "name": "python",
   "nbconvert_exporter": "python",
   "pygments_lexer": "ipython3",
   "version": "3.5.2"
  }
 },
 "nbformat": 4,
 "nbformat_minor": 0
}
